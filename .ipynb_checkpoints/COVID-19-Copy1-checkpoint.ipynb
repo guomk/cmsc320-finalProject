{
 "cells": [
  {
   "cell_type": "markdown",
   "metadata": {},
   "source": [
    "# COIVD-19 Analysis in US\n",
    "## CMSC320 Final Project\n",
    "### Overview\n",
    "In this tutorial, we are going to walk you through a whole pipeline of data science, that is, Data Collection and Management, Data Cleaning and Processing, Exploratory Data Analysis, and Further Analysis using machine learning and some statistics knowledge. We are going to show everyone how to create your own COVID-19 Analysis report. \n",
    "### Data Collection and Management\n",
    "As a data scientist, one thing you should always have is a nicely formatted working directory. You will be exposed to millions of records, so it's essential that you have an organized structure to maintain all these data.\n",
    "\n",
    "We will start our tutorial by creating a data folder in your working directory"
   ]
  },
  {
   "cell_type": "code",
   "execution_count": 1,
   "metadata": {},
   "outputs": [],
   "source": [
    "from pathlib import Path"
   ]
  },
  {
   "cell_type": "markdown",
   "metadata": {},
   "source": [
    "Now that we have a structured directory, we are going to collect our COVID-19 data. We are going to download data from this directory (https://github.com/CSSEGISandData/COVID-19) by Center for Systems Science and Engineering (CSSE) at Johns Hopkins University."
   ]
  },
  {
   "cell_type": "code",
   "execution_count": 59,
   "metadata": {},
   "outputs": [
    {
     "data": {
      "text/html": [
       "<div>\n",
       "<style scoped>\n",
       "    .dataframe tbody tr th:only-of-type {\n",
       "        vertical-align: middle;\n",
       "    }\n",
       "\n",
       "    .dataframe tbody tr th {\n",
       "        vertical-align: top;\n",
       "    }\n",
       "\n",
       "    .dataframe thead th {\n",
       "        text-align: right;\n",
       "    }\n",
       "</style>\n",
       "<table border=\"1\" class=\"dataframe\">\n",
       "  <thead>\n",
       "    <tr style=\"text-align: right;\">\n",
       "      <th></th>\n",
       "      <th>UID</th>\n",
       "      <th>iso2</th>\n",
       "      <th>iso3</th>\n",
       "      <th>code3</th>\n",
       "      <th>FIPS</th>\n",
       "      <th>Admin2</th>\n",
       "      <th>Province_State</th>\n",
       "      <th>Country_Region</th>\n",
       "      <th>Lat</th>\n",
       "      <th>Long_</th>\n",
       "      <th>...</th>\n",
       "      <th>5/2/20</th>\n",
       "      <th>5/3/20</th>\n",
       "      <th>5/4/20</th>\n",
       "      <th>5/5/20</th>\n",
       "      <th>5/6/20</th>\n",
       "      <th>5/7/20</th>\n",
       "      <th>5/8/20</th>\n",
       "      <th>5/9/20</th>\n",
       "      <th>5/10/20</th>\n",
       "      <th>5/11/20</th>\n",
       "    </tr>\n",
       "  </thead>\n",
       "  <tbody>\n",
       "    <tr>\n",
       "      <th>0</th>\n",
       "      <td>16</td>\n",
       "      <td>AS</td>\n",
       "      <td>ASM</td>\n",
       "      <td>16</td>\n",
       "      <td>60.0</td>\n",
       "      <td>NaN</td>\n",
       "      <td>American Samoa</td>\n",
       "      <td>US</td>\n",
       "      <td>-14.2710</td>\n",
       "      <td>-170.1320</td>\n",
       "      <td>...</td>\n",
       "      <td>0</td>\n",
       "      <td>0</td>\n",
       "      <td>0</td>\n",
       "      <td>0</td>\n",
       "      <td>0</td>\n",
       "      <td>0</td>\n",
       "      <td>0</td>\n",
       "      <td>0</td>\n",
       "      <td>0</td>\n",
       "      <td>0</td>\n",
       "    </tr>\n",
       "    <tr>\n",
       "      <th>1</th>\n",
       "      <td>316</td>\n",
       "      <td>GU</td>\n",
       "      <td>GUM</td>\n",
       "      <td>316</td>\n",
       "      <td>66.0</td>\n",
       "      <td>NaN</td>\n",
       "      <td>Guam</td>\n",
       "      <td>US</td>\n",
       "      <td>13.4443</td>\n",
       "      <td>144.7937</td>\n",
       "      <td>...</td>\n",
       "      <td>145</td>\n",
       "      <td>145</td>\n",
       "      <td>145</td>\n",
       "      <td>145</td>\n",
       "      <td>149</td>\n",
       "      <td>149</td>\n",
       "      <td>151</td>\n",
       "      <td>151</td>\n",
       "      <td>151</td>\n",
       "      <td>151</td>\n",
       "    </tr>\n",
       "    <tr>\n",
       "      <th>2</th>\n",
       "      <td>580</td>\n",
       "      <td>MP</td>\n",
       "      <td>MNP</td>\n",
       "      <td>580</td>\n",
       "      <td>69.0</td>\n",
       "      <td>NaN</td>\n",
       "      <td>Northern Mariana Islands</td>\n",
       "      <td>US</td>\n",
       "      <td>15.0979</td>\n",
       "      <td>145.6739</td>\n",
       "      <td>...</td>\n",
       "      <td>14</td>\n",
       "      <td>14</td>\n",
       "      <td>14</td>\n",
       "      <td>14</td>\n",
       "      <td>15</td>\n",
       "      <td>15</td>\n",
       "      <td>15</td>\n",
       "      <td>16</td>\n",
       "      <td>16</td>\n",
       "      <td>19</td>\n",
       "    </tr>\n",
       "  </tbody>\n",
       "</table>\n",
       "<p>3 rows × 122 columns</p>\n",
       "</div>"
      ],
      "text/plain": [
       "   UID iso2 iso3  code3  FIPS Admin2            Province_State Country_Region  \\\n",
       "0   16   AS  ASM     16  60.0    NaN            American Samoa             US   \n",
       "1  316   GU  GUM    316  66.0    NaN                      Guam             US   \n",
       "2  580   MP  MNP    580  69.0    NaN  Northern Mariana Islands             US   \n",
       "\n",
       "       Lat     Long_  ... 5/2/20  5/3/20  5/4/20  5/5/20  5/6/20  5/7/20  \\\n",
       "0 -14.2710 -170.1320  ...      0       0       0       0       0       0   \n",
       "1  13.4443  144.7937  ...    145     145     145     145     149     149   \n",
       "2  15.0979  145.6739  ...     14      14      14      14      15      15   \n",
       "\n",
       "   5/8/20  5/9/20  5/10/20  5/11/20  \n",
       "0       0       0        0        0  \n",
       "1     151     151      151      151  \n",
       "2      15      16       16       19  \n",
       "\n",
       "[3 rows x 122 columns]"
      ]
     },
     "execution_count": 59,
     "metadata": {},
     "output_type": "execute_result"
    }
   ],
   "source": [
    "import requests\n",
    "import pandas as pd\n",
    "import numpy as np\n",
    "from plotnine import *\n",
    "import matplotlib.pyplot as plt\n",
    "import warnings \n",
    "warnings.filterwarnings('ignore')\n",
    "\n",
    "filename = 'time_series_covid19_confirmed_US.csv'\n",
    "url = f'https://raw.githubusercontent.com/CSSEGISandData/COVID-19/master/csse_covid_19_data/csse_covid_19_time_series/{filename}'\n",
    "df = pd.read_csv(url)\n",
    "df.head(3)"
   ]
  },
  {
   "cell_type": "markdown",
   "metadata": {},
   "source": [
    "### Data Cleaning and Processing\n",
    "We notice that our dataset consists of 3 rows and 113 columns, and some of the information is not necessary. First, we need to get rid of all irrelavant information.\n",
    "We start by checking what are the columns of this dataset"
   ]
  },
  {
   "cell_type": "code",
   "execution_count": 3,
   "metadata": {},
   "outputs": [
    {
     "name": "stdout",
     "output_type": "stream",
     "text": [
      "['UID', 'iso2', 'iso3', 'code3', 'FIPS', 'Admin2', 'Province_State', 'Country_Region', 'Lat', 'Long_', 'Combined_Key', '1/22/20', '1/23/20', '1/24/20', '1/25/20', '1/26/20', '1/27/20', '1/28/20', '1/29/20', '1/30/20', '1/31/20', '2/1/20', '2/2/20', '2/3/20', '2/4/20', '2/5/20', '2/6/20', '2/7/20', '2/8/20', '2/9/20', '2/10/20', '2/11/20', '2/12/20', '2/13/20', '2/14/20', '2/15/20', '2/16/20', '2/17/20', '2/18/20', '2/19/20', '2/20/20', '2/21/20', '2/22/20', '2/23/20', '2/24/20', '2/25/20', '2/26/20', '2/27/20', '2/28/20', '2/29/20', '3/1/20', '3/2/20', '3/3/20', '3/4/20', '3/5/20', '3/6/20', '3/7/20', '3/8/20', '3/9/20', '3/10/20', '3/11/20', '3/12/20', '3/13/20', '3/14/20', '3/15/20', '3/16/20', '3/17/20', '3/18/20', '3/19/20', '3/20/20', '3/21/20', '3/22/20', '3/23/20', '3/24/20', '3/25/20', '3/26/20', '3/27/20', '3/28/20', '3/29/20', '3/30/20', '3/31/20', '4/1/20', '4/2/20', '4/3/20', '4/4/20', '4/5/20', '4/6/20', '4/7/20', '4/8/20', '4/9/20', '4/10/20', '4/11/20', '4/12/20', '4/13/20', '4/14/20', '4/15/20', '4/16/20', '4/17/20', '4/18/20', '4/19/20', '4/20/20', '4/21/20', '4/22/20', '4/23/20', '4/24/20', '4/25/20', '4/26/20', '4/27/20', '4/28/20', '4/29/20', '4/30/20', '5/1/20', '5/2/20', '5/3/20', '5/4/20', '5/5/20', '5/6/20', '5/7/20', '5/8/20', '5/9/20', '5/10/20', '5/11/20']\n"
     ]
    }
   ],
   "source": [
    "print(list(df.columns))"
   ]
  },
  {
   "cell_type": "markdown",
   "metadata": {},
   "source": [
    "The columns we will use is \"Province_state\" and all the columns of dates"
   ]
  },
  {
   "cell_type": "code",
   "execution_count": 4,
   "metadata": {},
   "outputs": [
    {
     "name": "stdout",
     "output_type": "stream",
     "text": [
      "Size/Shape of the dataset:  (58, 112)\n",
      "Checking for null values:\n",
      " Province_State    0\n",
      "1/22/20           0\n",
      "1/23/20           0\n",
      "1/24/20           0\n",
      "1/25/20           0\n",
      "                 ..\n",
      "5/7/20            0\n",
      "5/8/20            0\n",
      "5/9/20            0\n",
      "5/10/20           0\n",
      "5/11/20           0\n",
      "Length: 112, dtype: int64\n",
      "Checking Data-type of each column:\n",
      " Province_State    object\n",
      "1/22/20            int64\n",
      "1/23/20            int64\n",
      "1/24/20            int64\n",
      "1/25/20            int64\n",
      "                   ...  \n",
      "5/7/20             int64\n",
      "5/8/20             int64\n",
      "5/9/20             int64\n",
      "5/10/20            int64\n",
      "5/11/20            int64\n",
      "Length: 112, dtype: object\n"
     ]
    }
   ],
   "source": [
    "column_names = list(df.columns)\n",
    "\n",
    "# Remove unwanted values\n",
    "for name in ['UID', 'iso2', 'iso3', 'code3', 'FIPS', 'Admin2', 'Country_Region', 'Lat', 'Long_', 'Combined_Key']:\n",
    "    column_names.remove(name)\n",
    "covid_raw = df[column_names]\n",
    "\n",
    "# We will create a list to record all the columns of date, this will be extremely useful soon\n",
    "date_columns = list(covid_raw.columns)\n",
    "date_columns.remove('Province_State')\n",
    "\n",
    "# Aggregate rows with the same \"Province_State\"\n",
    "aggr_dict = dict(zip(date_columns, ['sum' for _ in range(len(date_columns))]))\n",
    "covid = covid_raw.groupby(['Province_State'], as_index=False).aggregate(aggr_dict)\n",
    "\n",
    "# Check some basic infomation of our dataset\n",
    "print(\"Size/Shape of the dataset: \",covid.shape)\n",
    "print(\"Checking for null values:\\n\",covid.isnull().sum())\n",
    "print(\"Checking Data-type of each column:\\n\",covid.dtypes)"
   ]
  },
  {
   "cell_type": "markdown",
   "metadata": {},
   "source": [
    "One thing we notice that is good about the dataset is that it doesn't have any null values, so we doesn't have to remove null values by hand."
   ]
  },
  {
   "cell_type": "markdown",
   "metadata": {},
   "source": [
    "### Exploratory Data Analysis\n",
    "Now that we are confident that we have a tidy dataset in the form of a pandas dataframe, we could start exploring the dataset.\n",
    "\n",
    "One of the information people care about intuitively is how many people are infected with COVID-19 in each state"
   ]
  },
  {
   "cell_type": "code",
   "execution_count": 7,
   "metadata": {},
   "outputs": [
    {
     "data": {
      "image/png": "[encoded data removed]",
      "text/plain": [
       "<Figure size 640x480 with 1 Axes>"
      ]
     },
     "metadata": {},
     "output_type": "display_data"
    },
    {
     "data": {
      "text/plain": [
       "<ggplot: (-9223372036537866878)>"
      ]
     },
     "execution_count": 7,
     "metadata": {},
     "output_type": "execute_result"
    }
   ],
   "source": [
    "# Sort and find the 10 states with the most cases\n",
    "covid_sorted = covid.sort_values(by=[covid.columns[-1]], ascending=False)\n",
    "covid_10 = covid_sorted[:10]\n",
    "covid_10\n",
    "\n",
    "# Plot the 10 states\n",
    "covid_10[date_columns] = covid_10[date_columns] / 1e3\n",
    "(ggplot(covid_10, aes(x='Province_State', weight=covid_10.columns[-1])) +\n",
    " geom_bar() + \n",
    " coord_flip() +\n",
    " labs(y=\"cases (1e3)\", x = \"state\") + \n",
    " ggtitle('Number of COVID-19 cases'))\n"
   ]
  },
  {
   "cell_type": "markdown",
   "metadata": {},
   "source": [
    "We could also print out the 10 states with most cases"
   ]
  },
  {
   "cell_type": "code",
   "execution_count": 98,
   "metadata": {},
   "outputs": [
    {
     "data": {
      "text/html": [
       "<div>\n",
       "<style scoped>\n",
       "    .dataframe tbody tr th:only-of-type {\n",
       "        vertical-align: middle;\n",
       "    }\n",
       "\n",
       "    .dataframe tbody tr th {\n",
       "        vertical-align: top;\n",
       "    }\n",
       "\n",
       "    .dataframe thead th {\n",
       "        text-align: right;\n",
       "    }\n",
       "</style>\n",
       "<table border=\"1\" class=\"dataframe\">\n",
       "  <thead>\n",
       "    <tr style=\"text-align: right;\">\n",
       "      <th></th>\n",
       "      <th>state</th>\n",
       "      <th>cases(1e3)</th>\n",
       "    </tr>\n",
       "  </thead>\n",
       "  <tbody>\n",
       "    <tr>\n",
       "      <th>36</th>\n",
       "      <td>New York</td>\n",
       "      <td>337.055</td>\n",
       "    </tr>\n",
       "    <tr>\n",
       "      <th>34</th>\n",
       "      <td>New Jersey</td>\n",
       "      <td>140.206</td>\n",
       "    </tr>\n",
       "    <tr>\n",
       "      <th>17</th>\n",
       "      <td>Illinois</td>\n",
       "      <td>79.007</td>\n",
       "    </tr>\n",
       "    <tr>\n",
       "      <th>25</th>\n",
       "      <td>Massachusetts</td>\n",
       "      <td>78.462</td>\n",
       "    </tr>\n",
       "    <tr>\n",
       "      <th>5</th>\n",
       "      <td>California</td>\n",
       "      <td>69.329</td>\n",
       "    </tr>\n",
       "    <tr>\n",
       "      <th>43</th>\n",
       "      <td>Pennsylvania</td>\n",
       "      <td>60.459</td>\n",
       "    </tr>\n",
       "    <tr>\n",
       "      <th>26</th>\n",
       "      <td>Michigan</td>\n",
       "      <td>47.552</td>\n",
       "    </tr>\n",
       "    <tr>\n",
       "      <th>11</th>\n",
       "      <td>Florida</td>\n",
       "      <td>40.982</td>\n",
       "    </tr>\n",
       "    <tr>\n",
       "      <th>49</th>\n",
       "      <td>Texas</td>\n",
       "      <td>40.555</td>\n",
       "    </tr>\n",
       "    <tr>\n",
       "      <th>12</th>\n",
       "      <td>Georgia</td>\n",
       "      <td>34.002</td>\n",
       "    </tr>\n",
       "  </tbody>\n",
       "</table>\n",
       "</div>"
      ],
      "text/plain": [
       "            state  cases(1e3)\n",
       "36       New York     337.055\n",
       "34     New Jersey     140.206\n",
       "17       Illinois      79.007\n",
       "25  Massachusetts      78.462\n",
       "5      California      69.329\n",
       "43   Pennsylvania      60.459\n",
       "26       Michigan      47.552\n",
       "11        Florida      40.982\n",
       "49          Texas      40.555\n",
       "12        Georgia      34.002"
      ]
     },
     "execution_count": 98,
     "metadata": {},
     "output_type": "execute_result"
    }
   ],
   "source": [
    "top_10_states = covid_10[['Province_State', covid_10.columns[-1]]]\n",
    "top_10_states.columns = ['state', 'cases(1e3)']\n",
    "top_10_states"
   ]
  },
  {
   "cell_type": "markdown",
   "metadata": {},
   "source": [
    "We see that the states with the most cases are Texas, Pennsylvania, New York, New jersey, Michigan, Massachusetts, Louisiana, Illinois, Floarida, and California.\n",
    "\n",
    "Another thing people would really like to learn about is the trend of Covid-19 cases in their home state (region), we will, for instance, look into the trend in Maryland"
   ]
  },
  {
   "cell_type": "code",
   "execution_count": 126,
   "metadata": {},
   "outputs": [
    {
     "data": {
      "text/html": [
       "<div>\n",
       "<style scoped>\n",
       "    .dataframe tbody tr th:only-of-type {\n",
       "        vertical-align: middle;\n",
       "    }\n",
       "\n",
       "    .dataframe tbody tr th {\n",
       "        vertical-align: top;\n",
       "    }\n",
       "\n",
       "    .dataframe thead th {\n",
       "        text-align: right;\n",
       "    }\n",
       "</style>\n",
       "<table border=\"1\" class=\"dataframe\">\n",
       "  <thead>\n",
       "    <tr style=\"text-align: right;\">\n",
       "      <th></th>\n",
       "      <th>Province_State</th>\n",
       "      <th>1/22/20</th>\n",
       "      <th>1/23/20</th>\n",
       "      <th>1/24/20</th>\n",
       "      <th>1/25/20</th>\n",
       "      <th>1/26/20</th>\n",
       "      <th>1/27/20</th>\n",
       "      <th>1/28/20</th>\n",
       "      <th>1/29/20</th>\n",
       "      <th>1/30/20</th>\n",
       "      <th>...</th>\n",
       "      <th>5/2/20</th>\n",
       "      <th>5/3/20</th>\n",
       "      <th>5/4/20</th>\n",
       "      <th>5/5/20</th>\n",
       "      <th>5/6/20</th>\n",
       "      <th>5/7/20</th>\n",
       "      <th>5/8/20</th>\n",
       "      <th>5/9/20</th>\n",
       "      <th>5/10/20</th>\n",
       "      <th>5/11/20</th>\n",
       "    </tr>\n",
       "  </thead>\n",
       "  <tbody>\n",
       "    <tr>\n",
       "      <th>24</th>\n",
       "      <td>Maryland</td>\n",
       "      <td>0</td>\n",
       "      <td>0</td>\n",
       "      <td>0</td>\n",
       "      <td>0</td>\n",
       "      <td>0</td>\n",
       "      <td>0</td>\n",
       "      <td>0</td>\n",
       "      <td>0</td>\n",
       "      <td>0</td>\n",
       "      <td>...</td>\n",
       "      <td>24473</td>\n",
       "      <td>25462</td>\n",
       "      <td>26408</td>\n",
       "      <td>27117</td>\n",
       "      <td>28163</td>\n",
       "      <td>29374</td>\n",
       "      <td>30485</td>\n",
       "      <td>31534</td>\n",
       "      <td>32587</td>\n",
       "      <td>33373</td>\n",
       "    </tr>\n",
       "  </tbody>\n",
       "</table>\n",
       "<p>1 rows × 112 columns</p>\n",
       "</div>"
      ],
      "text/plain": [
       "   Province_State  1/22/20  1/23/20  1/24/20  1/25/20  1/26/20  1/27/20  \\\n",
       "24       Maryland        0        0        0        0        0        0   \n",
       "\n",
       "    1/28/20  1/29/20  1/30/20  ...  5/2/20  5/3/20  5/4/20  5/5/20  5/6/20  \\\n",
       "24        0        0        0  ...   24473   25462   26408   27117   28163   \n",
       "\n",
       "    5/7/20  5/8/20  5/9/20  5/10/20  5/11/20  \n",
       "24   29374   30485   31534    32587    33373  \n",
       "\n",
       "[1 rows x 112 columns]"
      ]
     },
     "execution_count": 126,
     "metadata": {},
     "output_type": "execute_result"
    }
   ],
   "source": [
    "# Extract data of Maryland\n",
    "maryland = covid[covid['Province_State'] == 'Maryland']\n",
    "maryland"
   ]
  },
  {
   "cell_type": "markdown",
   "metadata": {},
   "source": [
    "To plot out our graph, we need to make some modification to the maryland dataset first. Sepcifically, instead of date being the column names, we want to have a column with name \"date\", and another column with name \"cases\". This will make our life much simpler when trying to plot the graph. To do so, we will use the pandas `stack()` function"
   ]
  },
  {
   "cell_type": "code",
   "execution_count": 129,
   "metadata": {},
   "outputs": [
    {
     "data": {
      "text/html": [
       "<div>\n",
       "<style scoped>\n",
       "    .dataframe tbody tr th:only-of-type {\n",
       "        vertical-align: middle;\n",
       "    }\n",
       "\n",
       "    .dataframe tbody tr th {\n",
       "        vertical-align: top;\n",
       "    }\n",
       "\n",
       "    .dataframe thead th {\n",
       "        text-align: right;\n",
       "    }\n",
       "</style>\n",
       "<table border=\"1\" class=\"dataframe\">\n",
       "  <thead>\n",
       "    <tr style=\"text-align: right;\">\n",
       "      <th></th>\n",
       "      <th>date</th>\n",
       "      <th>cases</th>\n",
       "    </tr>\n",
       "  </thead>\n",
       "  <tbody>\n",
       "    <tr>\n",
       "      <th>44</th>\n",
       "      <td>3/6/20</td>\n",
       "      <td>3</td>\n",
       "    </tr>\n",
       "    <tr>\n",
       "      <th>45</th>\n",
       "      <td>3/7/20</td>\n",
       "      <td>3</td>\n",
       "    </tr>\n",
       "    <tr>\n",
       "      <th>46</th>\n",
       "      <td>3/8/20</td>\n",
       "      <td>5</td>\n",
       "    </tr>\n",
       "    <tr>\n",
       "      <th>47</th>\n",
       "      <td>3/9/20</td>\n",
       "      <td>5</td>\n",
       "    </tr>\n",
       "    <tr>\n",
       "      <th>48</th>\n",
       "      <td>3/10/20</td>\n",
       "      <td>8</td>\n",
       "    </tr>\n",
       "    <tr>\n",
       "      <th>...</th>\n",
       "      <td>...</td>\n",
       "      <td>...</td>\n",
       "    </tr>\n",
       "    <tr>\n",
       "      <th>106</th>\n",
       "      <td>5/7/20</td>\n",
       "      <td>29374</td>\n",
       "    </tr>\n",
       "    <tr>\n",
       "      <th>107</th>\n",
       "      <td>5/8/20</td>\n",
       "      <td>30485</td>\n",
       "    </tr>\n",
       "    <tr>\n",
       "      <th>108</th>\n",
       "      <td>5/9/20</td>\n",
       "      <td>31534</td>\n",
       "    </tr>\n",
       "    <tr>\n",
       "      <th>109</th>\n",
       "      <td>5/10/20</td>\n",
       "      <td>32587</td>\n",
       "    </tr>\n",
       "    <tr>\n",
       "      <th>110</th>\n",
       "      <td>5/11/20</td>\n",
       "      <td>33373</td>\n",
       "    </tr>\n",
       "  </tbody>\n",
       "</table>\n",
       "<p>67 rows × 2 columns</p>\n",
       "</div>"
      ],
      "text/plain": [
       "        date  cases\n",
       "44    3/6/20      3\n",
       "45    3/7/20      3\n",
       "46    3/8/20      5\n",
       "47    3/9/20      5\n",
       "48   3/10/20      8\n",
       "..       ...    ...\n",
       "106   5/7/20  29374\n",
       "107   5/8/20  30485\n",
       "108   5/9/20  31534\n",
       "109  5/10/20  32587\n",
       "110  5/11/20  33373\n",
       "\n",
       "[67 rows x 2 columns]"
      ]
     },
     "execution_count": 129,
     "metadata": {},
     "output_type": "execute_result"
    }
   ],
   "source": [
    "# Reshape the dataframe, remove the first row ('Maryland'), remove useless column(s)\n",
    "maryland_stacked = pd.DataFrame(maryland.stack()[1:])\n",
    "maryland_stacked = maryland_stacked.reset_index()\n",
    "maryland_stacked.columns = ['dummy', 'date', 'cases']\n",
    "maryland_stacked = maryland_stacked[['date', 'cases']]\n",
    "\n",
    "# Remove all the zero values\n",
    "maryland_stacked = maryland_stacked[maryland_stacked['cases'] != 0]\n",
    "\n",
    "maryland_stacked"
   ]
  },
  {
   "cell_type": "markdown",
   "metadata": {},
   "source": [
    "Now that we have the dataset in the shape we want, we can start plotting its trend. Note that the \"dummy\" columns is the index for \"maryland\" and we won't be using it."
   ]
  },
  {
   "cell_type": "code",
   "execution_count": 113,
   "metadata": {},
   "outputs": [
    {
     "data": {
      "image/png": "[encoded data removed]",
      "text/plain": [
       "<Figure size 432x288 with 1 Axes>"
      ]
     },
     "metadata": {},
     "output_type": "display_data"
    }
   ],
   "source": [
    "# Plot its trend using a line plot\n",
    "plt.plot(maryland_stacked['cases'])\n",
    "plt.ylabel('number of cases')\n",
    "# plt.xticks([])\n",
    "plt.xticks(np.arange(40, 115, 15), ['Jan', 'Feb', 'Mar', 'Apri', 'May'])\n",
    "plt.title('Number of COVID-19 cases in Maryland')\n",
    "plt.show()"
   ]
  },
  {
   "cell_type": "markdown",
   "metadata": {},
   "source": [
    "As we can see in the above graph, the number of cases was (almost) increasing exponentially, but recently it starts to slow down. We could verify this by looking at its log transformation"
   ]
  },
  {
   "cell_type": "code",
   "execution_count": 114,
   "metadata": {},
   "outputs": [
    {
     "data": {
      "image/png": "[encoded data removed]",
      "text/plain": [
       "<Figure size 432x288 with 1 Axes>"
      ]
     },
     "metadata": {},
     "output_type": "display_data"
    }
   ],
   "source": [
    "# Plot its trend using a line plot\n",
    "plt.plot(maryland_stacked['cases'])\n",
    "plt.yscale('log')\n",
    "plt.ylabel('log number of cases')\n",
    "# plt.xticks([])\n",
    "plt.xticks(np.arange(40, 115, 15), ['Jan', 'Feb', 'Mar', 'Apri', 'May'])\n",
    "plt.title('Number of COVID-19 cases in Maryland after log transformation')\n",
    "plt.show()"
   ]
  },
  {
   "cell_type": "markdown",
   "metadata": {},
   "source": [
    "This verified our assumption that COVID-19 cases in Maryland was increasing exponentially at the beginning, is now gradually slowing down, which is a good sign."
   ]
  },
  {
   "cell_type": "markdown",
   "metadata": {},
   "source": [
    "### Hypothesis Testing\n",
    "\n",
    "One thing we would really like to know is the future trend of the COVID-19 pandemics. In this section, we will introduce how to perform simple machine learning algorithm on this dataset to predict the future trend. We will also perform hypothesis testing to decide whether our result is statistically significant and hence can be trustworthy."
   ]
  },
  {
   "cell_type": "markdown",
   "metadata": {},
   "source": [
    "To start with, let's first decide what are the states that we are interested in. For instance, I will pick Maryland, New York, and California. Let's start with extracting data of the three states."
   ]
  },
  {
   "cell_type": "code",
   "execution_count": 100,
   "metadata": {},
   "outputs": [
    {
     "data": {
      "text/html": [
       "<div>\n",
       "<style scoped>\n",
       "    .dataframe tbody tr th:only-of-type {\n",
       "        vertical-align: middle;\n",
       "    }\n",
       "\n",
       "    .dataframe tbody tr th {\n",
       "        vertical-align: top;\n",
       "    }\n",
       "\n",
       "    .dataframe thead th {\n",
       "        text-align: right;\n",
       "    }\n",
       "</style>\n",
       "<table border=\"1\" class=\"dataframe\">\n",
       "  <thead>\n",
       "    <tr style=\"text-align: right;\">\n",
       "      <th></th>\n",
       "      <th>Province_State</th>\n",
       "      <th>1/22/20</th>\n",
       "      <th>1/23/20</th>\n",
       "      <th>1/24/20</th>\n",
       "      <th>1/25/20</th>\n",
       "      <th>1/26/20</th>\n",
       "      <th>1/27/20</th>\n",
       "      <th>1/28/20</th>\n",
       "      <th>1/29/20</th>\n",
       "      <th>1/30/20</th>\n",
       "      <th>...</th>\n",
       "      <th>5/2/20</th>\n",
       "      <th>5/3/20</th>\n",
       "      <th>5/4/20</th>\n",
       "      <th>5/5/20</th>\n",
       "      <th>5/6/20</th>\n",
       "      <th>5/7/20</th>\n",
       "      <th>5/8/20</th>\n",
       "      <th>5/9/20</th>\n",
       "      <th>5/10/20</th>\n",
       "      <th>5/11/20</th>\n",
       "    </tr>\n",
       "  </thead>\n",
       "  <tbody>\n",
       "    <tr>\n",
       "      <th>24</th>\n",
       "      <td>Maryland</td>\n",
       "      <td>0</td>\n",
       "      <td>0</td>\n",
       "      <td>0</td>\n",
       "      <td>0</td>\n",
       "      <td>0</td>\n",
       "      <td>0</td>\n",
       "      <td>0</td>\n",
       "      <td>0</td>\n",
       "      <td>0</td>\n",
       "      <td>...</td>\n",
       "      <td>24473</td>\n",
       "      <td>25462</td>\n",
       "      <td>26408</td>\n",
       "      <td>27117</td>\n",
       "      <td>28163</td>\n",
       "      <td>29374</td>\n",
       "      <td>30485</td>\n",
       "      <td>31534</td>\n",
       "      <td>32587</td>\n",
       "      <td>33373</td>\n",
       "    </tr>\n",
       "  </tbody>\n",
       "</table>\n",
       "<p>1 rows × 112 columns</p>\n",
       "</div>"
      ],
      "text/plain": [
       "   Province_State  1/22/20  1/23/20  1/24/20  1/25/20  1/26/20  1/27/20  \\\n",
       "24       Maryland        0        0        0        0        0        0   \n",
       "\n",
       "    1/28/20  1/29/20  1/30/20  ...  5/2/20  5/3/20  5/4/20  5/5/20  5/6/20  \\\n",
       "24        0        0        0  ...   24473   25462   26408   27117   28163   \n",
       "\n",
       "    5/7/20  5/8/20  5/9/20  5/10/20  5/11/20  \n",
       "24   29374   30485   31534    32587    33373  \n",
       "\n",
       "[1 rows x 112 columns]"
      ]
     },
     "execution_count": 100,
     "metadata": {},
     "output_type": "execute_result"
    }
   ],
   "source": [
    "# Extract data of Maryland, New York, and California\n",
    "md = covid[covid['Province_State'] == 'Maryland']\n",
    "ny = covid[covid['Province_State'] == 'New York']\n",
    "ca = covid[covid['Province_State'] == 'California']\n",
    "\n",
    "md.head()"
   ]
  },
  {
   "cell_type": "markdown",
   "metadata": {},
   "source": [
    "Similar to the section of analysising past trend, we first need to reshape the datasets into shapes we want - with dates and cases being two seperated columns. But before doing that, we first need to be clear in mind about what are we going to do. So here's what we are gonna do.\n",
    "1. Reorganize the dataset, remove useless information\n",
    "2. Perform a regression machine learning algorithm since we want to tackle a prediction task\n",
    "3. Perform hypothesis testing to decide whether our prediction result is statistically significant\n",
    "\n",
    "Wonderful! Now that we understand our tasks, let\\'s think more about the regression algorithm, we will use linear regression to predict future case number.\n",
    "\n",
    "Now let's start by reorganizing the dataset"
   ]
  },
  {
   "cell_type": "code",
   "execution_count": 132,
   "metadata": {},
   "outputs": [],
   "source": [
    "# Reshape the dataframe, remove the first row , remove useless column(s)\n",
    "md_stacked = pd.DataFrame(md.stack()[1:])\n",
    "md_stacked = md_stacked.reset_index()\n",
    "md_stacked.columns = ['dummy', 'date', 'cases']\n",
    "md_stacked = md_stacked[['date', 'cases']]\n",
    "\n",
    "ny_stacked = pd.DataFrame(ny.stack()[1:])\n",
    "ny_stacked = ny_stacked.reset_index()\n",
    "ny_stacked.columns = ['dummy', 'date', 'cases']\n",
    "ny_stacked = ny_stacked[['date', 'cases']]\n",
    "\n",
    "ca_stacked = pd.DataFrame(ca.stack()[1:])\n",
    "ca_stacked = ca_stacked.reset_index()\n",
    "ca_stacked.columns = ['dummy', 'date', 'cases']\n",
    "ca_stacked = ca_stacked[['date', 'cases']]"
   ]
  },
  {
   "cell_type": "markdown",
   "metadata": {},
   "source": [
    "Then we create a new dataframe with three columns ['state', 'date', 'cases'] by concatenate the three stacked dataframe. It will be helpful to our analysis"
   ]
  },
  {
   "cell_type": "code",
   "execution_count": 148,
   "metadata": {},
   "outputs": [
    {
     "data": {
      "text/html": [
       "<div>\n",
       "<style scoped>\n",
       "    .dataframe tbody tr th:only-of-type {\n",
       "        vertical-align: middle;\n",
       "    }\n",
       "\n",
       "    .dataframe tbody tr th {\n",
       "        vertical-align: top;\n",
       "    }\n",
       "\n",
       "    .dataframe thead th {\n",
       "        text-align: right;\n",
       "    }\n",
       "</style>\n",
       "<table border=\"1\" class=\"dataframe\">\n",
       "  <thead>\n",
       "    <tr style=\"text-align: right;\">\n",
       "      <th></th>\n",
       "      <th>date</th>\n",
       "      <th>cases</th>\n",
       "      <th>state</th>\n",
       "    </tr>\n",
       "  </thead>\n",
       "  <tbody>\n",
       "    <tr>\n",
       "      <th>0</th>\n",
       "      <td>1/22/20</td>\n",
       "      <td>0</td>\n",
       "      <td>CA</td>\n",
       "    </tr>\n",
       "    <tr>\n",
       "      <th>1</th>\n",
       "      <td>1/23/20</td>\n",
       "      <td>0</td>\n",
       "      <td>CA</td>\n",
       "    </tr>\n",
       "    <tr>\n",
       "      <th>2</th>\n",
       "      <td>1/24/20</td>\n",
       "      <td>0</td>\n",
       "      <td>CA</td>\n",
       "    </tr>\n",
       "    <tr>\n",
       "      <th>3</th>\n",
       "      <td>1/25/20</td>\n",
       "      <td>0</td>\n",
       "      <td>CA</td>\n",
       "    </tr>\n",
       "    <tr>\n",
       "      <th>4</th>\n",
       "      <td>1/26/20</td>\n",
       "      <td>2</td>\n",
       "      <td>CA</td>\n",
       "    </tr>\n",
       "    <tr>\n",
       "      <th>...</th>\n",
       "      <td>...</td>\n",
       "      <td>...</td>\n",
       "      <td>...</td>\n",
       "    </tr>\n",
       "    <tr>\n",
       "      <th>328</th>\n",
       "      <td>5/7/20</td>\n",
       "      <td>29374</td>\n",
       "      <td>MD</td>\n",
       "    </tr>\n",
       "    <tr>\n",
       "      <th>329</th>\n",
       "      <td>5/8/20</td>\n",
       "      <td>30485</td>\n",
       "      <td>MD</td>\n",
       "    </tr>\n",
       "    <tr>\n",
       "      <th>330</th>\n",
       "      <td>5/9/20</td>\n",
       "      <td>31534</td>\n",
       "      <td>MD</td>\n",
       "    </tr>\n",
       "    <tr>\n",
       "      <th>331</th>\n",
       "      <td>5/10/20</td>\n",
       "      <td>32587</td>\n",
       "      <td>MD</td>\n",
       "    </tr>\n",
       "    <tr>\n",
       "      <th>332</th>\n",
       "      <td>5/11/20</td>\n",
       "      <td>33373</td>\n",
       "      <td>MD</td>\n",
       "    </tr>\n",
       "  </tbody>\n",
       "</table>\n",
       "<p>333 rows × 3 columns</p>\n",
       "</div>"
      ],
      "text/plain": [
       "        date  cases state\n",
       "0    1/22/20      0    CA\n",
       "1    1/23/20      0    CA\n",
       "2    1/24/20      0    CA\n",
       "3    1/25/20      0    CA\n",
       "4    1/26/20      2    CA\n",
       "..       ...    ...   ...\n",
       "328   5/7/20  29374    MD\n",
       "329   5/8/20  30485    MD\n",
       "330   5/9/20  31534    MD\n",
       "331  5/10/20  32587    MD\n",
       "332  5/11/20  33373    MD\n",
       "\n",
       "[333 rows x 3 columns]"
      ]
     },
     "execution_count": 148,
     "metadata": {},
     "output_type": "execute_result"
    }
   ],
   "source": [
    "# Add a new column to each stacked dataframe\n",
    "md_stacked['state'] = 'MD'\n",
    "ny_stacked['state'] = 'NY'\n",
    "ca_stacked['state'] = 'CA'\n",
    "\n",
    "concat_df = pd.concat([ca_stacked, ny_stacked, md_stacked], ignore_index=True)\n",
    "concat_df"
   ]
  },
  {
   "cell_type": "markdown",
   "metadata": {},
   "source": [
    "Let's first gain some insight of the situation in the three states by plotting out their number of cases. We notice that for each state, there are more than 100 days of data, which is too many for our plot to be intuitive. So we are going to sample out some dates first. To achieve this, we can devide our work into following steps\n",
    "1. Get number of dates\n",
    "2. Create sample index\n",
    "3. Extract samples using the sample index"
   ]
  },
  {
   "cell_type": "code",
   "execution_count": 165,
   "metadata": {},
   "outputs": [
    {
     "data": {
      "text/html": [
       "<div>\n",
       "<style scoped>\n",
       "    .dataframe tbody tr th:only-of-type {\n",
       "        vertical-align: middle;\n",
       "    }\n",
       "\n",
       "    .dataframe tbody tr th {\n",
       "        vertical-align: top;\n",
       "    }\n",
       "\n",
       "    .dataframe thead th {\n",
       "        text-align: right;\n",
       "    }\n",
       "</style>\n",
       "<table border=\"1\" class=\"dataframe\">\n",
       "  <thead>\n",
       "    <tr style=\"text-align: right;\">\n",
       "      <th></th>\n",
       "      <th>date</th>\n",
       "      <th>cases</th>\n",
       "      <th>state</th>\n",
       "    </tr>\n",
       "  </thead>\n",
       "  <tbody>\n",
       "    <tr>\n",
       "      <th>0</th>\n",
       "      <td>1/22/20</td>\n",
       "      <td>0</td>\n",
       "      <td>CA</td>\n",
       "    </tr>\n",
       "    <tr>\n",
       "      <th>5</th>\n",
       "      <td>1/27/20</td>\n",
       "      <td>2</td>\n",
       "      <td>CA</td>\n",
       "    </tr>\n",
       "    <tr>\n",
       "      <th>10</th>\n",
       "      <td>2/1/20</td>\n",
       "      <td>3</td>\n",
       "      <td>CA</td>\n",
       "    </tr>\n",
       "  </tbody>\n",
       "</table>\n",
       "</div>"
      ],
      "text/plain": [
       "       date cases state\n",
       "0   1/22/20     0    CA\n",
       "5   1/27/20     2    CA\n",
       "10   2/1/20     3    CA"
      ]
     },
     "execution_count": 165,
     "metadata": {},
     "output_type": "execute_result"
    }
   ],
   "source": [
    "# Get number of dates\n",
    "dim = concat_df.shape\n",
    "n_dates = dim[0]\n",
    "n_dates /= 3\n",
    "\n",
    "# Create sample index\n",
    "n_samples = 20\n",
    "sample_idx = list(np.arange(0, n_dates, n_dates // n_samples))\n",
    "sample_idx = sample_idx + [i + n_dates for i in sample_idx] + [i + 2*n_dates for i in sample_idx]\n",
    "\n",
    "# Extract samples\n",
    "sample_df = concat_df.iloc[sample_idx]\n",
    "sample_df.head(3)"
   ]
  },
  {
   "cell_type": "markdown",
   "metadata": {},
   "source": [
    "Let's plot our data! Since we want to see number of cases across time in each state, we are going to use a scatter plot with color encoding state"
   ]
  },
  {
   "cell_type": "code",
   "execution_count": 175,
   "metadata": {},
   "outputs": [
    {
     "data": {
      "image/png": "[encoded data removed]",
      "text/plain": [
       "<Figure size 640x480 with 1 Axes>"
      ]
     },
     "metadata": {},
     "output_type": "display_data"
    },
    {
     "data": {
      "text/plain": [
       "<ggplot: (316455288)>"
      ]
     },
     "execution_count": 175,
     "metadata": {},
     "output_type": "execute_result"
    }
   ],
   "source": [
    "(ggplot(sample_df, aes(x='date', y='cases')) + \n",
    " geom_point(aes(color='state')) + \n",
    " theme(axis_text_x=element_text(angle=45,hjust=1, size=8)) +\n",
    " theme(axis_text_y=element_text(hjust=1, size=4)) +\n",
    " labs(y=\"number of cases\", x = \"date\", title='number of cases over time'))"
   ]
  },
  {
   "cell_type": "markdown",
   "metadata": {},
   "source": [
    "Let's now fit a regression line to them"
   ]
  },
  {
   "cell_type": "code",
   "execution_count": 173,
   "metadata": {},
   "outputs": [
    {
     "data": {
      "image/png": "[encoded data removed]",
      "text/plain": [
       "<Figure size 640x480 with 1 Axes>"
      ]
     },
     "metadata": {},
     "output_type": "display_data"
    },
    {
     "data": {
      "text/plain": [
       "<ggplot: (-9223372036533108841)>"
      ]
     },
     "execution_count": 173,
     "metadata": {},
     "output_type": "execute_result"
    }
   ],
   "source": [
    "(ggplot(sample_df, aes(x='date', y='cases', color='state')) + \n",
    " geom_point() + \n",
    " geom_smooth(method='lm') +\n",
    " theme(axis_text_x=element_text(angle=45,hjust=1, size=8)) +\n",
    " theme(axis_text_y=element_text(hjust=1, size=4)) +\n",
    " labs(y=\"number of cases\", x = \"date\", title='number of cases over time'))"
   ]
  },
  {
   "cell_type": "code",
   "execution_count": null,
   "metadata": {},
   "outputs": [],
   "source": []
  }
 ],
 "metadata": {
  "kernelspec": {
   "display_name": "Python 3",
   "language": "python",
   "name": "python3"
  },
  "language_info": {
   "codemirror_mode": {
    "name": "ipython",
    "version": 3
   },
   "file_extension": ".py",
   "mimetype": "text/x-python",
   "name": "python",
   "nbconvert_exporter": "python",
   "pygments_lexer": "ipython3",
   "version": "3.6.6"
  }
 },
 "nbformat": 4,
 "nbformat_minor": 4
}
